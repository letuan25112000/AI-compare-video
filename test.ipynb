{
 "cells": [
  {
   "cell_type": "markdown",
   "id": "17d44540",
   "metadata": {},
   "source": [
    "# Lọc frame trùng từ videos"
   ]
  },
  {
   "cell_type": "code",
   "execution_count": 3,
   "id": "b37e04c6",
   "metadata": {},
   "outputs": [],
   "source": [
    "import cv2\n",
    "import os\n",
    "import numpy as np\n",
    "from skimage.metrics import structural_similarity as ssim\n"
   ]
  },
  {
   "cell_type": "code",
   "execution_count": 4,
   "id": "0d3fad3e",
   "metadata": {},
   "outputs": [],
   "source": [
    "input_dir = \"./frames\"        # thư mục chứa frame gốc\n",
    "output_dir = \"./filtered\"     # nơi lưu frame đã lọc\n",
    "\n",
    "os.makedirs(output_dir, exist_ok=True)\n"
   ]
  },
  {
   "cell_type": "code",
   "execution_count": 5,
   "id": "058df718",
   "metadata": {},
   "outputs": [],
   "source": [
    "frames = sorted([f for f in os.listdir(input_dir) if f.endswith(\".jpg\")])\n"
   ]
  },
  {
   "cell_type": "code",
   "execution_count": 6,
   "id": "72d54f30",
   "metadata": {},
   "outputs": [],
   "source": [
    "def calc_ssim(img1, img2):\n",
    "    gray1 = cv2.cvtColor(img1, cv2.COLOR_BGR2GRAY)\n",
    "    gray2 = cv2.cvtColor(img2, cv2.COLOR_BGR2GRAY)\n",
    "    score, _ = ssim(gray1, gray2, full=True)\n",
    "    return score\n"
   ]
  },
  {
   "cell_type": "code",
   "execution_count": 7,
   "id": "e7eb444a",
   "metadata": {},
   "outputs": [
    {
     "name": "stdout",
     "output_type": "stream",
     "text": [
      "Đã lọc xong: giữ lại 7 frame khác biệt đáng kể.\n"
     ]
    }
   ],
   "source": [
    "THRESHOLD = 0.9   # độ tương đồng > 0.95 thì coi là giống nhau (bỏ)\n",
    "\n",
    "prev_img = None\n",
    "count = 0\n",
    "\n",
    "for i, name in enumerate(frames):\n",
    "    img_path = os.path.join(input_dir, name)\n",
    "    img = cv2.imread(img_path)\n",
    "    if img is None:\n",
    "        continue\n",
    "\n",
    "    if prev_img is None:\n",
    "        # frame đầu tiên luôn giữ lại\n",
    "        cv2.imwrite(os.path.join(output_dir, name), img)\n",
    "        prev_img = img\n",
    "        count += 1\n",
    "        continue\n",
    "\n",
    "    similarity = calc_ssim(prev_img, img)\n",
    "\n",
    "    if similarity < THRESHOLD:\n",
    "        # Giữ lại nếu khác đáng kể\n",
    "        cv2.imwrite(os.path.join(output_dir, name), img)\n",
    "        prev_img = img\n",
    "        count += 1\n",
    "\n",
    "print(f\"Đã lọc xong: giữ lại {count} frame khác biệt đáng kể.\")\n"
   ]
  },
  {
   "cell_type": "markdown",
   "id": "a4c53ab9",
   "metadata": {},
   "source": [
    "# Augmentation tự động để làm phong phú dữ liệu"
   ]
  },
  {
   "cell_type": "code",
   "execution_count": 3,
   "id": "eaec89f5",
   "metadata": {},
   "outputs": [
    {
     "name": "stderr",
     "output_type": "stream",
     "text": [
      "100%|██████████| 9/9 [00:11<00:00,  1.27s/it]\n"
     ]
    }
   ],
   "source": [
    "import os\n",
    "import cv2\n",
    "import albumentations as A\n",
    "from tqdm import tqdm\n",
    "\n",
    "# --- Cấu hình thư mục ---\n",
    "IMG_DIR = \"./data_train/v2/images/train\"\n",
    "LABEL_DIR = \"./data_train/v2/labels/train\"\n",
    "OUT_IMG_DIR = \"./data_train/augmented/images\"\n",
    "OUT_LABEL_DIR = \"./data_train/augmented/labels\"\n",
    "\n",
    "os.makedirs(OUT_IMG_DIR, exist_ok=True)\n",
    "os.makedirs(OUT_LABEL_DIR, exist_ok=True)\n",
    "\n",
    "# --- Định nghĩa augmentation ---\n",
    "transform = A.Compose([\n",
    "    A.RandomBrightnessContrast(p=0.6),\n",
    "    A.HueSaturationValue(p=0.6),\n",
    "    A.Blur(blur_limit=3, p=0.3),\n",
    "    A.HorizontalFlip(p=0.5),\n",
    "    A.Affine(rotate=(-10, 10), scale=(0.9, 1.1), p=0.6),\n",
    "    A.Resize(640, 640)  # YOLO cần kích thước đồng nhất\n",
    "],\n",
    "    bbox_params=A.BboxParams(format='yolo', label_fields=['class_labels'])\n",
    ")\n",
    "\n",
    "# --- Hàm đọc nhãn YOLO ---\n",
    "def read_yolo_label(label_path):\n",
    "    boxes = []\n",
    "    class_labels = []\n",
    "    if not os.path.exists(label_path):\n",
    "        return boxes, class_labels\n",
    "    with open(label_path, \"r\") as f:\n",
    "        for line in f.readlines():\n",
    "            parts = line.strip().split()\n",
    "            cls = int(parts[0])\n",
    "            x, y, w, h = map(float, parts[1:])\n",
    "            boxes.append([x, y, w, h])\n",
    "            class_labels.append(cls)\n",
    "    return boxes, class_labels\n",
    "\n",
    "# --- Hàm ghi nhãn YOLO ---\n",
    "def save_yolo_label(path, boxes, class_labels):\n",
    "    with open(path, \"w\") as f:\n",
    "        for cls, (x, y, w, h) in zip(class_labels, boxes):\n",
    "            f.write(f\"{int(cls)} {x:.6f} {y:.6f} {w:.6f} {h:.6f}\\n\")\n",
    "\n",
    "# --- Augment dữ liệu ---\n",
    "for img_name in tqdm(os.listdir(IMG_DIR)):\n",
    "    if not img_name.endswith(\".jpg\"):\n",
    "        continue\n",
    "\n",
    "    img_path = os.path.join(IMG_DIR, img_name)\n",
    "    label_path = os.path.join(LABEL_DIR, img_name.replace(\".jpg\", \".txt\"))\n",
    "\n",
    "    image = cv2.imread(img_path)\n",
    "    bboxes, class_labels = read_yolo_label(label_path)\n",
    "\n",
    "    # Tạo nhiều bản augment cho mỗi ảnh\n",
    "    for i in range(20):  # Tăng 5 lần mỗi ảnh\n",
    "        transformed = transform(image=image, bboxes=bboxes, class_labels=class_labels)\n",
    "        aug_img = transformed[\"image\"]\n",
    "        aug_bboxes = transformed[\"bboxes\"]\n",
    "        aug_labels = transformed[\"class_labels\"]\n",
    "\n",
    "        # Nếu không còn bbox hợp lệ thì bỏ qua\n",
    "        if len(aug_bboxes) == 0:\n",
    "            continue\n",
    "\n",
    "        out_img_name = img_name.replace(\".jpg\", f\"_aug_{i:03d}.jpg\")\n",
    "        out_label_name = img_name.replace(\".jpg\", f\"_aug_{i:03d}.txt\")\n",
    "\n",
    "        cv2.imwrite(os.path.join(OUT_IMG_DIR, out_img_name), aug_img)\n",
    "        save_yolo_label(os.path.join(OUT_LABEL_DIR, out_label_name), aug_bboxes, aug_labels)\n"
   ]
  },
  {
   "cell_type": "code",
   "execution_count": 2,
   "id": "c915e03e",
   "metadata": {},
   "outputs": [],
   "source": [
    "import cv2\n",
    "import os\n",
    "\n",
    "# Đường dẫn thư mục ảnh và label\n",
    "image_dir = \"./data_train/augmented/images\"\n",
    "label_dir = \"./data_train/augmented/labels\"\n",
    "\n",
    "# Lấy danh sách file ảnh\n",
    "for image_file in os.listdir(image_dir):\n",
    "    if not image_file.endswith(\".jpg\"):\n",
    "        continue\n",
    "\n",
    "    img_path = os.path.join(image_dir, image_file)\n",
    "    label_path = os.path.join(label_dir, image_file.replace(\".jpg\", \".txt\"))\n",
    "\n",
    "    img = cv2.imread(img_path)\n",
    "    h, w, _ = img.shape\n",
    "\n",
    "    # Nếu có file label thì vẽ\n",
    "    if os.path.exists(label_path):\n",
    "        with open(label_path, \"r\") as f:\n",
    "            for line in f:\n",
    "                parts = line.strip().split()\n",
    "                cls_id = int(parts[0])\n",
    "                x_center, y_center, box_w, box_h = map(float, parts[1:])\n",
    "\n",
    "                # Chuyển tọa độ YOLO → pixel\n",
    "                x1 = int((x_center - box_w / 2) * w)\n",
    "                y1 = int((y_center - box_h / 2) * h)\n",
    "                x2 = int((x_center + box_w / 2) * w)\n",
    "                y2 = int((y_center + box_h / 2) * h)\n",
    "\n",
    "                # Vẽ hình chữ nhật\n",
    "                cv2.rectangle(img, (x1, y1), (x2, y2), (0, 255, 0), 2)\n",
    "                cv2.putText(img,  str(cls_id), (x1, y1 - 5),\n",
    "                            cv2.FONT_HERSHEY_SIMPLEX, 0.6, (255, 0, 0), 2)\n",
    "\n",
    "    # Hiển thị\n",
    "    cv2.imshow(\"Label Check\", img)\n",
    "    key = cv2.waitKey(0)\n",
    "    if key == 27:  # ESC để thoát\n",
    "        break\n",
    "\n",
    "cv2.destroyAllWindows()\n"
   ]
  }
 ],
 "metadata": {
  "kernelspec": {
   "display_name": ".venv",
   "language": "python",
   "name": "python3"
  },
  "language_info": {
   "codemirror_mode": {
    "name": "ipython",
    "version": 3
   },
   "file_extension": ".py",
   "mimetype": "text/x-python",
   "name": "python",
   "nbconvert_exporter": "python",
   "pygments_lexer": "ipython3",
   "version": "3.13.1"
  }
 },
 "nbformat": 4,
 "nbformat_minor": 5
}
